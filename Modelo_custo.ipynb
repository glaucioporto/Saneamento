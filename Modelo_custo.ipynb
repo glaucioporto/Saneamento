{
  "nbformat": 4,
  "nbformat_minor": 0,
  "metadata": {
    "colab": {
      "name": "Modelo_custo.ipynb",
      "provenance": []
    },
    "kernelspec": {
      "name": "python3",
      "display_name": "Python 3"
    }
  },
  "cells": [
    {
      "cell_type": "code",
      "metadata": {
        "id": "HuWFneSQICOC",
        "colab_type": "code",
        "colab": {}
      },
      "source": [
        "import pandas as pd\n",
        "import numpy as np\n",
        "import matplotlib.pyplot as plt\n",
        "import seaborn as sns\n",
        "import os\n",
        "import pathlib\n",
        "import itertools\n",
        "import pandas.util.testing as tm\n",
        "import statsmodels.api as sm\n",
        "from statsmodels.iolib.summary2 import summary_col\n",
        "from statsmodels.sandbox.regression.predstd import wls_prediction_std\n",
        "from sklearn.ensemble import RandomForestClassifier\n",
        "from sklearn.ensemble import RandomForestRegressor\n",
        "from sklearn.linear_model import LinearRegression\n",
        "from sklearn.linear_model import LogisticRegression\n",
        "\n",
        "\n",
        "%matplotlib inline"
      ],
      "execution_count": 76,
      "outputs": []
    },
    {
      "cell_type": "code",
      "metadata": {
        "id": "hOsNjQTMRmqe",
        "colab_type": "code",
        "colab": {}
      },
      "source": [
        "url = 'https://raw.githubusercontent.com/glaucioporto/Saneamento/master/Modelo0909_custo_v4.csv'"
      ],
      "execution_count": 17,
      "outputs": []
    },
    {
      "cell_type": "code",
      "metadata": {
        "id": "wLc_qJmcSXDI",
        "colab_type": "code",
        "colab": {
          "base_uri": "https://localhost:8080/",
          "height": 197
        },
        "outputId": "a61319c1-0884-43fb-c6fd-71db89656a29"
      },
      "source": [
        "df = pd.read_csv(url, sep = ';', encoding='latin-1')\n",
        "df.head()"
      ],
      "execution_count": 18,
      "outputs": [
        {
          "output_type": "execute_result",
          "data": {
            "text/html": [
              "<div>\n",
              "<style scoped>\n",
              "    .dataframe tbody tr th:only-of-type {\n",
              "        vertical-align: middle;\n",
              "    }\n",
              "\n",
              "    .dataframe tbody tr th {\n",
              "        vertical-align: top;\n",
              "    }\n",
              "\n",
              "    .dataframe thead th {\n",
              "        text-align: right;\n",
              "    }\n",
              "</style>\n",
              "<table border=\"1\" class=\"dataframe\">\n",
              "  <thead>\n",
              "    <tr style=\"text-align: right;\">\n",
              "      <th></th>\n",
              "      <th>ï»¿c_mun</th>\n",
              "      <th>un</th>\n",
              "      <th>ano</th>\n",
              "      <th>c_prest</th>\n",
              "      <th>t_Serv</th>\n",
              "      <th>nat_jur_c</th>\n",
              "      <th>FN017</th>\n",
              "      <th>nat_jur_b</th>\n",
              "      <th>Urbanizacao</th>\n",
              "      <th>AG005</th>\n",
              "      <th>AG011</th>\n",
              "      <th>AG021</th>\n",
              "      <th>QD023</th>\n",
              "      <th>IN008</th>\n",
              "      <th>IN013</th>\n",
              "      <th>IN058</th>\n",
              "    </tr>\n",
              "  </thead>\n",
              "  <tbody>\n",
              "    <tr>\n",
              "      <th>0</th>\n",
              "      <td>120040</td>\n",
              "      <td>AC</td>\n",
              "      <td>2004</td>\n",
              "      <td>12004011</td>\n",
              "      <td>1</td>\n",
              "      <td>0</td>\n",
              "      <td>16.07</td>\n",
              "      <td>0</td>\n",
              "      <td>89</td>\n",
              "      <td>6.31</td>\n",
              "      <td>8.61</td>\n",
              "      <td>11.00</td>\n",
              "      <td>8.71</td>\n",
              "      <td>9.90</td>\n",
              "      <td>73.80</td>\n",
              "      <td>-0.82</td>\n",
              "    </tr>\n",
              "    <tr>\n",
              "      <th>1</th>\n",
              "      <td>120040</td>\n",
              "      <td>AC</td>\n",
              "      <td>2003</td>\n",
              "      <td>12004011</td>\n",
              "      <td>1</td>\n",
              "      <td>0</td>\n",
              "      <td>15.81</td>\n",
              "      <td>0</td>\n",
              "      <td>89</td>\n",
              "      <td>6.31</td>\n",
              "      <td>8.62</td>\n",
              "      <td>10.97</td>\n",
              "      <td>7.28</td>\n",
              "      <td>9.70</td>\n",
              "      <td>75.24</td>\n",
              "      <td>-0.84</td>\n",
              "    </tr>\n",
              "    <tr>\n",
              "      <th>2</th>\n",
              "      <td>270020</td>\n",
              "      <td>AL</td>\n",
              "      <td>2004</td>\n",
              "      <td>27043000</td>\n",
              "      <td>0</td>\n",
              "      <td>1</td>\n",
              "      <td>13.55</td>\n",
              "      <td>0</td>\n",
              "      <td>51</td>\n",
              "      <td>2.70</td>\n",
              "      <td>5.63</td>\n",
              "      <td>7.70</td>\n",
              "      <td>2.30</td>\n",
              "      <td>10.01</td>\n",
              "      <td>44.56</td>\n",
              "      <td>-0.02</td>\n",
              "    </tr>\n",
              "    <tr>\n",
              "      <th>3</th>\n",
              "      <td>270020</td>\n",
              "      <td>AL</td>\n",
              "      <td>2003</td>\n",
              "      <td>27043000</td>\n",
              "      <td>0</td>\n",
              "      <td>1</td>\n",
              "      <td>13.22</td>\n",
              "      <td>0</td>\n",
              "      <td>51</td>\n",
              "      <td>2.70</td>\n",
              "      <td>5.61</td>\n",
              "      <td>7.66</td>\n",
              "      <td>6.22</td>\n",
              "      <td>9.98</td>\n",
              "      <td>45.92</td>\n",
              "      <td>0.04</td>\n",
              "    </tr>\n",
              "    <tr>\n",
              "      <th>4</th>\n",
              "      <td>270030</td>\n",
              "      <td>AL</td>\n",
              "      <td>2004</td>\n",
              "      <td>27043000</td>\n",
              "      <td>0</td>\n",
              "      <td>1</td>\n",
              "      <td>16.40</td>\n",
              "      <td>0</td>\n",
              "      <td>82</td>\n",
              "      <td>6.33</td>\n",
              "      <td>8.70</td>\n",
              "      <td>10.69</td>\n",
              "      <td>6.99</td>\n",
              "      <td>10.17</td>\n",
              "      <td>16.62</td>\n",
              "      <td>0.94</td>\n",
              "    </tr>\n",
              "  </tbody>\n",
              "</table>\n",
              "</div>"
            ],
            "text/plain": [
              "   ï»¿c_mun  un   ano   c_prest  t_Serv  ...  AG021  QD023  IN008  IN013  IN058\n",
              "0    120040  AC  2004  12004011       1  ...  11.00   8.71   9.90  73.80  -0.82\n",
              "1    120040  AC  2003  12004011       1  ...  10.97   7.28   9.70  75.24  -0.84\n",
              "2    270020  AL  2004  27043000       0  ...   7.70   2.30  10.01  44.56  -0.02\n",
              "3    270020  AL  2003  27043000       0  ...   7.66   6.22   9.98  45.92   0.04\n",
              "4    270030  AL  2004  27043000       0  ...  10.69   6.99  10.17  16.62   0.94\n",
              "\n",
              "[5 rows x 16 columns]"
            ]
          },
          "metadata": {
            "tags": []
          },
          "execution_count": 18
        }
      ]
    },
    {
      "cell_type": "code",
      "metadata": {
        "id": "36OjozTqIcgx",
        "colab_type": "code",
        "colab": {
          "base_uri": "https://localhost:8080/",
          "height": 34
        },
        "outputId": "fb959cbb-dc63-4700-db36-d8a32d229a49"
      },
      "source": [
        "df.shape"
      ],
      "execution_count": 19,
      "outputs": [
        {
          "output_type": "execute_result",
          "data": {
            "text/plain": [
              "(44888, 16)"
            ]
          },
          "metadata": {
            "tags": []
          },
          "execution_count": 19
        }
      ]
    },
    {
      "cell_type": "code",
      "metadata": {
        "id": "_nWT1Ot3a212",
        "colab_type": "code",
        "colab": {
          "base_uri": "https://localhost:8080/",
          "height": 425
        },
        "outputId": "b1f4d2ff-d0ae-42bd-e144-63507f742192"
      },
      "source": [
        "df.info()"
      ],
      "execution_count": 20,
      "outputs": [
        {
          "output_type": "stream",
          "text": [
            "<class 'pandas.core.frame.DataFrame'>\n",
            "RangeIndex: 44888 entries, 0 to 44887\n",
            "Data columns (total 16 columns):\n",
            " #   Column       Non-Null Count  Dtype  \n",
            "---  ------       --------------  -----  \n",
            " 0   ï»¿c_mun     44888 non-null  int64  \n",
            " 1   un           44888 non-null  object \n",
            " 2   ano          44888 non-null  int64  \n",
            " 3   c_prest      44888 non-null  int64  \n",
            " 4   t_Serv       44888 non-null  int64  \n",
            " 5   nat_jur_c    44888 non-null  int64  \n",
            " 6   FN017        44888 non-null  float64\n",
            " 7   nat_jur_b    44888 non-null  int64  \n",
            " 8   Urbanizacao  44888 non-null  int64  \n",
            " 9   AG005        44888 non-null  float64\n",
            " 10  AG011        44888 non-null  float64\n",
            " 11  AG021        44888 non-null  float64\n",
            " 12  QD023        44888 non-null  float64\n",
            " 13  IN008        44888 non-null  float64\n",
            " 14  IN013        44885 non-null  float64\n",
            " 15  IN058        44888 non-null  float64\n",
            "dtypes: float64(8), int64(7), object(1)\n",
            "memory usage: 5.5+ MB\n"
          ],
          "name": "stdout"
        }
      ]
    },
    {
      "cell_type": "code",
      "metadata": {
        "id": "bVV0OqKRa6i9",
        "colab_type": "code",
        "colab": {
          "base_uri": "https://localhost:8080/",
          "height": 1000
        },
        "outputId": "20b93cf3-26f3-4f4e-cf00-98cde8c5e077"
      },
      "source": [
        "df.hist(bins=50, figsize=(20,15))"
      ],
      "execution_count": 21,
      "outputs": [
        {
          "output_type": "execute_result",
          "data": {
            "text/plain": [
              "array([[<matplotlib.axes._subplots.AxesSubplot object at 0x7fcb72f11780>,\n",
              "        <matplotlib.axes._subplots.AxesSubplot object at 0x7fcb72eeaa20>,\n",
              "        <matplotlib.axes._subplots.AxesSubplot object at 0x7fcb72e98240>,\n",
              "        <matplotlib.axes._subplots.AxesSubplot object at 0x7fcb72e464a8>],\n",
              "       [<matplotlib.axes._subplots.AxesSubplot object at 0x7fcb72e74710>,\n",
              "        <matplotlib.axes._subplots.AxesSubplot object at 0x7fcb72e25978>,\n",
              "        <matplotlib.axes._subplots.AxesSubplot object at 0x7fcb72dd6be0>,\n",
              "        <matplotlib.axes._subplots.AxesSubplot object at 0x7fcb72d85e10>],\n",
              "       [<matplotlib.axes._subplots.AxesSubplot object at 0x7fcb72d85e80>,\n",
              "        <matplotlib.axes._subplots.AxesSubplot object at 0x7fcb72d79358>,\n",
              "        <matplotlib.axes._subplots.AxesSubplot object at 0x7fcb72d2b5c0>,\n",
              "        <matplotlib.axes._subplots.AxesSubplot object at 0x7fcb72cde828>],\n",
              "       [<matplotlib.axes._subplots.AxesSubplot object at 0x7fcb72c92a90>,\n",
              "        <matplotlib.axes._subplots.AxesSubplot object at 0x7fcb72c44cf8>,\n",
              "        <matplotlib.axes._subplots.AxesSubplot object at 0x7fcb72c77f60>,\n",
              "        <matplotlib.axes._subplots.AxesSubplot object at 0x7fcb72c37208>]],\n",
              "      dtype=object)"
            ]
          },
          "metadata": {
            "tags": []
          },
          "execution_count": 21
        },
        {
          "output_type": "display_data",
          "data": {
            "image/png": "[encoded data removed]",
            "text/plain": [
              "<Figure size 1440x1080 with 16 Axes>"
            ]
          },
          "metadata": {
            "tags": [],
            "needs_background": "light"
          }
        }
      ]
    },
    {
      "cell_type": "code",
      "metadata": {
        "id": "jXfUeWK_bBpW",
        "colab_type": "code",
        "colab": {
          "base_uri": "https://localhost:8080/",
          "height": 287
        },
        "outputId": "54ef8e2f-6e08-444f-919d-64ce89bb181f"
      },
      "source": [
        "# Analisando outros campos e descrição dos atributos numéricos\n",
        "df.describe()"
      ],
      "execution_count": 22,
      "outputs": [
        {
          "output_type": "execute_result",
          "data": {
            "text/html": [
              "<div>\n",
              "<style scoped>\n",
              "    .dataframe tbody tr th:only-of-type {\n",
              "        vertical-align: middle;\n",
              "    }\n",
              "\n",
              "    .dataframe tbody tr th {\n",
              "        vertical-align: top;\n",
              "    }\n",
              "\n",
              "    .dataframe thead th {\n",
              "        text-align: right;\n",
              "    }\n",
              "</style>\n",
              "<table border=\"1\" class=\"dataframe\">\n",
              "  <thead>\n",
              "    <tr style=\"text-align: right;\">\n",
              "      <th></th>\n",
              "      <th>ï»¿c_mun</th>\n",
              "      <th>ano</th>\n",
              "      <th>c_prest</th>\n",
              "      <th>t_Serv</th>\n",
              "      <th>nat_jur_c</th>\n",
              "      <th>FN017</th>\n",
              "      <th>nat_jur_b</th>\n",
              "      <th>Urbanizacao</th>\n",
              "      <th>AG005</th>\n",
              "      <th>AG011</th>\n",
              "      <th>AG021</th>\n",
              "      <th>QD023</th>\n",
              "      <th>IN008</th>\n",
              "      <th>IN013</th>\n",
              "      <th>IN058</th>\n",
              "    </tr>\n",
              "  </thead>\n",
              "  <tbody>\n",
              "    <tr>\n",
              "      <th>count</th>\n",
              "      <td>44888.000000</td>\n",
              "      <td>44888.000000</td>\n",
              "      <td>4.488800e+04</td>\n",
              "      <td>44888.000000</td>\n",
              "      <td>44888.000000</td>\n",
              "      <td>44888.000000</td>\n",
              "      <td>44888.000000</td>\n",
              "      <td>44888.000000</td>\n",
              "      <td>44888.000000</td>\n",
              "      <td>44888.000000</td>\n",
              "      <td>44888.000000</td>\n",
              "      <td>44888.000000</td>\n",
              "      <td>44888.000000</td>\n",
              "      <td>44885.000000</td>\n",
              "      <td>44888.000000</td>\n",
              "    </tr>\n",
              "    <tr>\n",
              "      <th>mean</th>\n",
              "      <td>328598.806407</td>\n",
              "      <td>2012.769382</td>\n",
              "      <td>3.283853e+07</td>\n",
              "      <td>0.413429</td>\n",
              "      <td>0.796271</td>\n",
              "      <td>14.294791</td>\n",
              "      <td>0.043174</td>\n",
              "      <td>67.330021</td>\n",
              "      <td>3.810003</td>\n",
              "      <td>6.238426</td>\n",
              "      <td>8.207433</td>\n",
              "      <td>6.926353</td>\n",
              "      <td>11.127406</td>\n",
              "      <td>24.089907</td>\n",
              "      <td>-0.396591</td>\n",
              "    </tr>\n",
              "    <tr>\n",
              "      <th>std</th>\n",
              "      <td>89731.295565</td>\n",
              "      <td>3.884229</td>\n",
              "      <td>8.967209e+06</td>\n",
              "      <td>0.492454</td>\n",
              "      <td>0.402774</td>\n",
              "      <td>1.511234</td>\n",
              "      <td>0.203251</td>\n",
              "      <td>21.113977</td>\n",
              "      <td>1.280875</td>\n",
              "      <td>1.438032</td>\n",
              "      <td>1.287172</td>\n",
              "      <td>2.275897</td>\n",
              "      <td>0.849198</td>\n",
              "      <td>189.029918</td>\n",
              "      <td>0.947934</td>\n",
              "    </tr>\n",
              "    <tr>\n",
              "      <th>min</th>\n",
              "      <td>110001.000000</td>\n",
              "      <td>2003.000000</td>\n",
              "      <td>1.100011e+07</td>\n",
              "      <td>0.000000</td>\n",
              "      <td>0.000000</td>\n",
              "      <td>3.730000</td>\n",
              "      <td>0.000000</td>\n",
              "      <td>2.000000</td>\n",
              "      <td>-3.910000</td>\n",
              "      <td>-3.220000</td>\n",
              "      <td>1.950000</td>\n",
              "      <td>0.000000</td>\n",
              "      <td>1.480000</td>\n",
              "      <td>-548.360000</td>\n",
              "      <td>-4.610000</td>\n",
              "    </tr>\n",
              "    <tr>\n",
              "      <th>25%</th>\n",
              "      <td>270070.000000</td>\n",
              "      <td>2010.000000</td>\n",
              "      <td>2.704300e+07</td>\n",
              "      <td>0.000000</td>\n",
              "      <td>1.000000</td>\n",
              "      <td>13.280000</td>\n",
              "      <td>0.000000</td>\n",
              "      <td>51.000000</td>\n",
              "      <td>2.890000</td>\n",
              "      <td>5.220000</td>\n",
              "      <td>7.280000</td>\n",
              "      <td>5.810000</td>\n",
              "      <td>10.650000</td>\n",
              "      <td>8.010000</td>\n",
              "      <td>-0.760000</td>\n",
              "    </tr>\n",
              "    <tr>\n",
              "      <th>50%</th>\n",
              "      <td>315540.000000</td>\n",
              "      <td>2013.000000</td>\n",
              "      <td>3.106200e+07</td>\n",
              "      <td>0.000000</td>\n",
              "      <td>1.000000</td>\n",
              "      <td>14.060000</td>\n",
              "      <td>0.000000</td>\n",
              "      <td>70.000000</td>\n",
              "      <td>3.640000</td>\n",
              "      <td>6.010000</td>\n",
              "      <td>8.020000</td>\n",
              "      <td>7.160000</td>\n",
              "      <td>11.230000</td>\n",
              "      <td>20.750000</td>\n",
              "      <td>-0.340000</td>\n",
              "    </tr>\n",
              "    <tr>\n",
              "      <th>75%</th>\n",
              "      <td>410720.000000</td>\n",
              "      <td>2016.000000</td>\n",
              "      <td>4.106900e+07</td>\n",
              "      <td>1.000000</td>\n",
              "      <td>1.000000</td>\n",
              "      <td>15.100000</td>\n",
              "      <td>0.000000</td>\n",
              "      <td>85.000000</td>\n",
              "      <td>4.540000</td>\n",
              "      <td>7.020000</td>\n",
              "      <td>8.920000</td>\n",
              "      <td>8.340000</td>\n",
              "      <td>11.710000</td>\n",
              "      <td>35.690000</td>\n",
              "      <td>0.050000</td>\n",
              "    </tr>\n",
              "    <tr>\n",
              "      <th>max</th>\n",
              "      <td>530010.000000</td>\n",
              "      <td>2018.000000</td>\n",
              "      <td>5.300100e+07</td>\n",
              "      <td>1.000000</td>\n",
              "      <td>1.000000</td>\n",
              "      <td>22.400000</td>\n",
              "      <td>1.000000</td>\n",
              "      <td>100.000000</td>\n",
              "      <td>9.990000</td>\n",
              "      <td>14.060000</td>\n",
              "      <td>15.100000</td>\n",
              "      <td>18.530000</td>\n",
              "      <td>15.090000</td>\n",
              "      <td>38788.450000</td>\n",
              "      <td>4.860000</td>\n",
              "    </tr>\n",
              "  </tbody>\n",
              "</table>\n",
              "</div>"
            ],
            "text/plain": [
              "            ï»¿c_mun           ano  ...         IN013         IN058\n",
              "count   44888.000000  44888.000000  ...  44885.000000  44888.000000\n",
              "mean   328598.806407   2012.769382  ...     24.089907     -0.396591\n",
              "std     89731.295565      3.884229  ...    189.029918      0.947934\n",
              "min    110001.000000   2003.000000  ...   -548.360000     -4.610000\n",
              "25%    270070.000000   2010.000000  ...      8.010000     -0.760000\n",
              "50%    315540.000000   2013.000000  ...     20.750000     -0.340000\n",
              "75%    410720.000000   2016.000000  ...     35.690000      0.050000\n",
              "max    530010.000000   2018.000000  ...  38788.450000      4.860000\n",
              "\n",
              "[8 rows x 15 columns]"
            ]
          },
          "metadata": {
            "tags": []
          },
          "execution_count": 22
        }
      ]
    },
    {
      "cell_type": "code",
      "metadata": {
        "id": "zlCTUH_dbmRB",
        "colab_type": "code",
        "colab": {
          "base_uri": "https://localhost:8080/",
          "height": 406
        },
        "outputId": "8fa7570d-8a96-46f2-8018-d48163b09318"
      },
      "source": [
        "df1_a = df.copy()\n",
        "df1_a['Target'] = df1_a['FN017'].apply(lambda x:0 if x == 'No' else 1)\n",
        "df1_a"
      ],
      "execution_count": 23,
      "outputs": [
        {
          "output_type": "execute_result",
          "data": {
            "text/html": [
              "<div>\n",
              "<style scoped>\n",
              "    .dataframe tbody tr th:only-of-type {\n",
              "        vertical-align: middle;\n",
              "    }\n",
              "\n",
              "    .dataframe tbody tr th {\n",
              "        vertical-align: top;\n",
              "    }\n",
              "\n",
              "    .dataframe thead th {\n",
              "        text-align: right;\n",
              "    }\n",
              "</style>\n",
              "<table border=\"1\" class=\"dataframe\">\n",
              "  <thead>\n",
              "    <tr style=\"text-align: right;\">\n",
              "      <th></th>\n",
              "      <th>ï»¿c_mun</th>\n",
              "      <th>un</th>\n",
              "      <th>ano</th>\n",
              "      <th>c_prest</th>\n",
              "      <th>t_Serv</th>\n",
              "      <th>nat_jur_c</th>\n",
              "      <th>FN017</th>\n",
              "      <th>nat_jur_b</th>\n",
              "      <th>Urbanizacao</th>\n",
              "      <th>AG005</th>\n",
              "      <th>AG011</th>\n",
              "      <th>AG021</th>\n",
              "      <th>QD023</th>\n",
              "      <th>IN008</th>\n",
              "      <th>IN013</th>\n",
              "      <th>IN058</th>\n",
              "      <th>Target</th>\n",
              "    </tr>\n",
              "  </thead>\n",
              "  <tbody>\n",
              "    <tr>\n",
              "      <th>0</th>\n",
              "      <td>120040</td>\n",
              "      <td>AC</td>\n",
              "      <td>2004</td>\n",
              "      <td>12004011</td>\n",
              "      <td>1</td>\n",
              "      <td>0</td>\n",
              "      <td>16.07</td>\n",
              "      <td>0</td>\n",
              "      <td>89</td>\n",
              "      <td>6.31</td>\n",
              "      <td>8.61</td>\n",
              "      <td>11.00</td>\n",
              "      <td>8.71</td>\n",
              "      <td>9.90</td>\n",
              "      <td>73.80</td>\n",
              "      <td>-0.82</td>\n",
              "      <td>1</td>\n",
              "    </tr>\n",
              "    <tr>\n",
              "      <th>1</th>\n",
              "      <td>120040</td>\n",
              "      <td>AC</td>\n",
              "      <td>2003</td>\n",
              "      <td>12004011</td>\n",
              "      <td>1</td>\n",
              "      <td>0</td>\n",
              "      <td>15.81</td>\n",
              "      <td>0</td>\n",
              "      <td>89</td>\n",
              "      <td>6.31</td>\n",
              "      <td>8.62</td>\n",
              "      <td>10.97</td>\n",
              "      <td>7.28</td>\n",
              "      <td>9.70</td>\n",
              "      <td>75.24</td>\n",
              "      <td>-0.84</td>\n",
              "      <td>1</td>\n",
              "    </tr>\n",
              "    <tr>\n",
              "      <th>2</th>\n",
              "      <td>270020</td>\n",
              "      <td>AL</td>\n",
              "      <td>2004</td>\n",
              "      <td>27043000</td>\n",
              "      <td>0</td>\n",
              "      <td>1</td>\n",
              "      <td>13.55</td>\n",
              "      <td>0</td>\n",
              "      <td>51</td>\n",
              "      <td>2.70</td>\n",
              "      <td>5.63</td>\n",
              "      <td>7.70</td>\n",
              "      <td>2.30</td>\n",
              "      <td>10.01</td>\n",
              "      <td>44.56</td>\n",
              "      <td>-0.02</td>\n",
              "      <td>1</td>\n",
              "    </tr>\n",
              "    <tr>\n",
              "      <th>3</th>\n",
              "      <td>270020</td>\n",
              "      <td>AL</td>\n",
              "      <td>2003</td>\n",
              "      <td>27043000</td>\n",
              "      <td>0</td>\n",
              "      <td>1</td>\n",
              "      <td>13.22</td>\n",
              "      <td>0</td>\n",
              "      <td>51</td>\n",
              "      <td>2.70</td>\n",
              "      <td>5.61</td>\n",
              "      <td>7.66</td>\n",
              "      <td>6.22</td>\n",
              "      <td>9.98</td>\n",
              "      <td>45.92</td>\n",
              "      <td>0.04</td>\n",
              "      <td>1</td>\n",
              "    </tr>\n",
              "    <tr>\n",
              "      <th>4</th>\n",
              "      <td>270030</td>\n",
              "      <td>AL</td>\n",
              "      <td>2004</td>\n",
              "      <td>27043000</td>\n",
              "      <td>0</td>\n",
              "      <td>1</td>\n",
              "      <td>16.40</td>\n",
              "      <td>0</td>\n",
              "      <td>82</td>\n",
              "      <td>6.33</td>\n",
              "      <td>8.70</td>\n",
              "      <td>10.69</td>\n",
              "      <td>6.99</td>\n",
              "      <td>10.17</td>\n",
              "      <td>16.62</td>\n",
              "      <td>0.94</td>\n",
              "      <td>1</td>\n",
              "    </tr>\n",
              "    <tr>\n",
              "      <th>...</th>\n",
              "      <td>...</td>\n",
              "      <td>...</td>\n",
              "      <td>...</td>\n",
              "      <td>...</td>\n",
              "      <td>...</td>\n",
              "      <td>...</td>\n",
              "      <td>...</td>\n",
              "      <td>...</td>\n",
              "      <td>...</td>\n",
              "      <td>...</td>\n",
              "      <td>...</td>\n",
              "      <td>...</td>\n",
              "      <td>...</td>\n",
              "      <td>...</td>\n",
              "      <td>...</td>\n",
              "      <td>...</td>\n",
              "      <td>...</td>\n",
              "    </tr>\n",
              "    <tr>\n",
              "      <th>44883</th>\n",
              "      <td>172120</td>\n",
              "      <td>TO</td>\n",
              "      <td>2017</td>\n",
              "      <td>17210000</td>\n",
              "      <td>1</td>\n",
              "      <td>0</td>\n",
              "      <td>15.15</td>\n",
              "      <td>1</td>\n",
              "      <td>81</td>\n",
              "      <td>4.78</td>\n",
              "      <td>6.97</td>\n",
              "      <td>8.90</td>\n",
              "      <td>9.81</td>\n",
              "      <td>10.81</td>\n",
              "      <td>36.49</td>\n",
              "      <td>-1.11</td>\n",
              "      <td>1</td>\n",
              "    </tr>\n",
              "    <tr>\n",
              "      <th>44884</th>\n",
              "      <td>172208</td>\n",
              "      <td>TO</td>\n",
              "      <td>2018</td>\n",
              "      <td>17210000</td>\n",
              "      <td>0</td>\n",
              "      <td>0</td>\n",
              "      <td>13.66</td>\n",
              "      <td>1</td>\n",
              "      <td>53</td>\n",
              "      <td>3.74</td>\n",
              "      <td>5.92</td>\n",
              "      <td>8.00</td>\n",
              "      <td>8.96</td>\n",
              "      <td>11.21</td>\n",
              "      <td>18.92</td>\n",
              "      <td>-0.82</td>\n",
              "      <td>1</td>\n",
              "    </tr>\n",
              "    <tr>\n",
              "      <th>44885</th>\n",
              "      <td>172208</td>\n",
              "      <td>TO</td>\n",
              "      <td>2017</td>\n",
              "      <td>17210000</td>\n",
              "      <td>0</td>\n",
              "      <td>0</td>\n",
              "      <td>14.16</td>\n",
              "      <td>1</td>\n",
              "      <td>53</td>\n",
              "      <td>3.74</td>\n",
              "      <td>5.90</td>\n",
              "      <td>7.97</td>\n",
              "      <td>8.62</td>\n",
              "      <td>11.19</td>\n",
              "      <td>11.54</td>\n",
              "      <td>-0.71</td>\n",
              "      <td>1</td>\n",
              "    </tr>\n",
              "    <tr>\n",
              "      <th>44886</th>\n",
              "      <td>172210</td>\n",
              "      <td>TO</td>\n",
              "      <td>2018</td>\n",
              "      <td>17210000</td>\n",
              "      <td>0</td>\n",
              "      <td>0</td>\n",
              "      <td>14.32</td>\n",
              "      <td>1</td>\n",
              "      <td>85</td>\n",
              "      <td>3.61</td>\n",
              "      <td>6.24</td>\n",
              "      <td>8.13</td>\n",
              "      <td>9.28</td>\n",
              "      <td>10.96</td>\n",
              "      <td>1.40</td>\n",
              "      <td>-0.42</td>\n",
              "      <td>1</td>\n",
              "    </tr>\n",
              "    <tr>\n",
              "      <th>44887</th>\n",
              "      <td>172210</td>\n",
              "      <td>TO</td>\n",
              "      <td>2017</td>\n",
              "      <td>17210000</td>\n",
              "      <td>0</td>\n",
              "      <td>0</td>\n",
              "      <td>14.66</td>\n",
              "      <td>1</td>\n",
              "      <td>85</td>\n",
              "      <td>3.61</td>\n",
              "      <td>6.27</td>\n",
              "      <td>8.27</td>\n",
              "      <td>9.00</td>\n",
              "      <td>10.81</td>\n",
              "      <td>4.50</td>\n",
              "      <td>-0.92</td>\n",
              "      <td>1</td>\n",
              "    </tr>\n",
              "  </tbody>\n",
              "</table>\n",
              "<p>44888 rows × 17 columns</p>\n",
              "</div>"
            ],
            "text/plain": [
              "       ï»¿c_mun  un   ano   c_prest  t_Serv  ...  QD023  IN008  IN013  IN058  Target\n",
              "0        120040  AC  2004  12004011       1  ...   8.71   9.90  73.80  -0.82       1\n",
              "1        120040  AC  2003  12004011       1  ...   7.28   9.70  75.24  -0.84       1\n",
              "2        270020  AL  2004  27043000       0  ...   2.30  10.01  44.56  -0.02       1\n",
              "3        270020  AL  2003  27043000       0  ...   6.22   9.98  45.92   0.04       1\n",
              "4        270030  AL  2004  27043000       0  ...   6.99  10.17  16.62   0.94       1\n",
              "...         ...  ..   ...       ...     ...  ...    ...    ...    ...    ...     ...\n",
              "44883    172120  TO  2017  17210000       1  ...   9.81  10.81  36.49  -1.11       1\n",
              "44884    172208  TO  2018  17210000       0  ...   8.96  11.21  18.92  -0.82       1\n",
              "44885    172208  TO  2017  17210000       0  ...   8.62  11.19  11.54  -0.71       1\n",
              "44886    172210  TO  2018  17210000       0  ...   9.28  10.96   1.40  -0.42       1\n",
              "44887    172210  TO  2017  17210000       0  ...   9.00  10.81   4.50  -0.92       1\n",
              "\n",
              "[44888 rows x 17 columns]"
            ]
          },
          "metadata": {
            "tags": []
          },
          "execution_count": 23
        }
      ]
    },
    {
      "cell_type": "code",
      "metadata": {
        "id": "-iCDzDQBcAmv",
        "colab_type": "code",
        "colab": {
          "base_uri": "https://localhost:8080/",
          "height": 904
        },
        "outputId": "44c82b55-5a63-47d9-98a8-0708ac440d62"
      },
      "source": [
        "corr=df1_a.corr()\n",
        "plt.figure(figsize=(16, 16))\n",
        "sns.heatmap(corr, vmax=.8, linewidths=0.01,square=True,annot=False,cmap='YlGnBu',linecolor=\"white\")\n",
        "plt.title('Correlação entre as variáveis');"
      ],
      "execution_count": 24,
      "outputs": [
        {
          "output_type": "display_data",
          "data": {
            "image/png": "[encoded data removed]",
            "text/plain": [
              "<Figure size 1152x1152 with 2 Axes>"
            ]
          },
          "metadata": {
            "tags": [],
            "needs_background": "light"
          }
        }
      ]
    },
    {
      "cell_type": "code",
      "metadata": {
        "id": "SvNXkPlAcPpE",
        "colab_type": "code",
        "colab": {
          "base_uri": "https://localhost:8080/",
          "height": 318
        },
        "outputId": "b10abf86-b4b1-406a-bd42-9dbcacf03a19"
      },
      "source": [
        "df1_a.corr()['FN017'].head(60)\n"
      ],
      "execution_count": 25,
      "outputs": [
        {
          "output_type": "execute_result",
          "data": {
            "text/plain": [
              "ï»¿c_mun       0.130791\n",
              "ano            0.133162\n",
              "c_prest        0.132916\n",
              "t_Serv         0.505313\n",
              "nat_jur_c     -0.010022\n",
              "FN017          1.000000\n",
              "nat_jur_b      0.013766\n",
              "Urbanizacao    0.610650\n",
              "AG005          0.860645\n",
              "AG011          0.893633\n",
              "AG021          0.912938\n",
              "QD023          0.608029\n",
              "IN008          0.302806\n",
              "IN013          0.029285\n",
              "IN058          0.012487\n",
              "Target              NaN\n",
              "Name: FN017, dtype: float64"
            ]
          },
          "metadata": {
            "tags": []
          },
          "execution_count": 25
        }
      ]
    },
    {
      "cell_type": "code",
      "metadata": {
        "id": "eF659JrG4U1Y",
        "colab_type": "code",
        "colab": {}
      },
      "source": [
        "df.groupby(['Gender']).Target.value_counts(normalize= True)"
      ],
      "execution_count": null,
      "outputs": []
    },
    {
      "cell_type": "code",
      "metadata": {
        "id": "_eaAzbad1_K0",
        "colab_type": "code",
        "colab": {
          "base_uri": "https://localhost:8080/",
          "height": 132
        },
        "outputId": "e06303e3-4a02-4342-cdbc-feab42742846"
      },
      "source": [
        "plt.figure(figsize=(15,8))\n",
        "sns.kdeplot(df['DF017'][df.['nat_jur_b'] == 1], color='darkturquoise', shade = True)\n",
        "sns.kdeplot(df1_a['DF017'][df.'nat_jur_b' == 0], color='lightcoral', shade = True)\n",
        "plt.legend(['Empresa Privada', 'Ativo'])\n",
        "plt.title('Gráfico de densidade de Custo por natureza jurídica')\n"
      ],
      "execution_count": 92,
      "outputs": [
        {
          "output_type": "error",
          "ename": "SyntaxError",
          "evalue": "ignored",
          "traceback": [
            "\u001b[0;36m  File \u001b[0;32m\"<ipython-input-92-1daeb859e4e2>\"\u001b[0;36m, line \u001b[0;32m2\u001b[0m\n\u001b[0;31m    sns.kdeplot(df['DF017'][df.['nat_jur_b'] == 1], color='darkturquoise', shade = True)\u001b[0m\n\u001b[0m                               ^\u001b[0m\n\u001b[0;31mSyntaxError\u001b[0m\u001b[0;31m:\u001b[0m invalid syntax\n"
          ]
        }
      ]
    },
    {
      "cell_type": "code",
      "metadata": {
        "id": "Ot-C6IVlwTC7",
        "colab_type": "code",
        "colab": {
          "base_uri": "https://localhost:8080/",
          "height": 197
        },
        "outputId": "ea6926d6-21bd-49d3-f661-8c62b9ea3f25"
      },
      "source": [
        "df017_x.head()"
      ],
      "execution_count": 68,
      "outputs": [
        {
          "output_type": "execute_result",
          "data": {
            "text/html": [
              "<div>\n",
              "<style scoped>\n",
              "    .dataframe tbody tr th:only-of-type {\n",
              "        vertical-align: middle;\n",
              "    }\n",
              "\n",
              "    .dataframe tbody tr th {\n",
              "        vertical-align: top;\n",
              "    }\n",
              "\n",
              "    .dataframe thead th {\n",
              "        text-align: right;\n",
              "    }\n",
              "</style>\n",
              "<table border=\"1\" class=\"dataframe\">\n",
              "  <thead>\n",
              "    <tr style=\"text-align: right;\">\n",
              "      <th></th>\n",
              "      <th>t_Serv</th>\n",
              "      <th>nat_jur_c</th>\n",
              "      <th>nat_jur_b</th>\n",
              "      <th>Urbanizacao</th>\n",
              "      <th>AG005</th>\n",
              "      <th>AG011</th>\n",
              "      <th>AG021</th>\n",
              "      <th>QD023</th>\n",
              "      <th>IN008</th>\n",
              "      <th>IN013</th>\n",
              "      <th>IN058</th>\n",
              "    </tr>\n",
              "  </thead>\n",
              "  <tbody>\n",
              "    <tr>\n",
              "      <th>0</th>\n",
              "      <td>1</td>\n",
              "      <td>0</td>\n",
              "      <td>0</td>\n",
              "      <td>89</td>\n",
              "      <td>6.31</td>\n",
              "      <td>8.61</td>\n",
              "      <td>11.00</td>\n",
              "      <td>8.71</td>\n",
              "      <td>9.90</td>\n",
              "      <td>73.80</td>\n",
              "      <td>-0.82</td>\n",
              "    </tr>\n",
              "    <tr>\n",
              "      <th>1</th>\n",
              "      <td>1</td>\n",
              "      <td>0</td>\n",
              "      <td>0</td>\n",
              "      <td>89</td>\n",
              "      <td>6.31</td>\n",
              "      <td>8.62</td>\n",
              "      <td>10.97</td>\n",
              "      <td>7.28</td>\n",
              "      <td>9.70</td>\n",
              "      <td>75.24</td>\n",
              "      <td>-0.84</td>\n",
              "    </tr>\n",
              "    <tr>\n",
              "      <th>2</th>\n",
              "      <td>0</td>\n",
              "      <td>1</td>\n",
              "      <td>0</td>\n",
              "      <td>51</td>\n",
              "      <td>2.70</td>\n",
              "      <td>5.63</td>\n",
              "      <td>7.70</td>\n",
              "      <td>2.30</td>\n",
              "      <td>10.01</td>\n",
              "      <td>44.56</td>\n",
              "      <td>-0.02</td>\n",
              "    </tr>\n",
              "    <tr>\n",
              "      <th>3</th>\n",
              "      <td>0</td>\n",
              "      <td>1</td>\n",
              "      <td>0</td>\n",
              "      <td>51</td>\n",
              "      <td>2.70</td>\n",
              "      <td>5.61</td>\n",
              "      <td>7.66</td>\n",
              "      <td>6.22</td>\n",
              "      <td>9.98</td>\n",
              "      <td>45.92</td>\n",
              "      <td>0.04</td>\n",
              "    </tr>\n",
              "    <tr>\n",
              "      <th>4</th>\n",
              "      <td>0</td>\n",
              "      <td>1</td>\n",
              "      <td>0</td>\n",
              "      <td>82</td>\n",
              "      <td>6.33</td>\n",
              "      <td>8.70</td>\n",
              "      <td>10.69</td>\n",
              "      <td>6.99</td>\n",
              "      <td>10.17</td>\n",
              "      <td>16.62</td>\n",
              "      <td>0.94</td>\n",
              "    </tr>\n",
              "  </tbody>\n",
              "</table>\n",
              "</div>"
            ],
            "text/plain": [
              "   t_Serv  nat_jur_c  nat_jur_b  Urbanizacao  ...  QD023  IN008  IN013  IN058\n",
              "0       1          0          0           89  ...   8.71   9.90  73.80  -0.82\n",
              "1       1          0          0           89  ...   7.28   9.70  75.24  -0.84\n",
              "2       0          1          0           51  ...   2.30  10.01  44.56  -0.02\n",
              "3       0          1          0           51  ...   6.22   9.98  45.92   0.04\n",
              "4       0          1          0           82  ...   6.99  10.17  16.62   0.94\n",
              "\n",
              "[5 rows x 11 columns]"
            ]
          },
          "metadata": {
            "tags": []
          },
          "execution_count": 68
        }
      ]
    },
    {
      "cell_type": "code",
      "metadata": {
        "id": "TbN4Dl6ge1bF",
        "colab_type": "code",
        "colab": {}
      },
      "source": [
        "# Variável dependente FN017 (Custo)\n",
        "df017 = df.dropna()\n",
        "df017_x = df017.drop(['FN017','ano','c_prest','ï»¿c_mun','un'] ,axis = 1) \n",
        "df017b_x = df017_x.drop(['t_Serv','nat_jur_c'], axis = 1)\n",
        "df017c_x = df017b_x.drop(['IN058', 'AG021', 'QD023'] ,axis = 1)\n",
        "X = df017_x # Selects the features\n",
        "X2 = df017b_x \n",
        "X3 = df017c_x \n",
        "y = df017['FN017'] # Selects the variable we want to predict - ok porque no teve exclusao de linhas"
      ],
      "execution_count": 78,
      "outputs": []
    },
    {
      "cell_type": "code",
      "metadata": {
        "id": "kG3NgJldlLgI",
        "colab_type": "code",
        "colab": {
          "base_uri": "https://localhost:8080/",
          "height": 34
        },
        "outputId": "3c6b10e5-0aa0-45be-d787-7d09eeaef4b5"
      },
      "source": [
        "X.shape\n"
      ],
      "execution_count": 79,
      "outputs": [
        {
          "output_type": "execute_result",
          "data": {
            "text/plain": [
              "(44885, 11)"
            ]
          },
          "metadata": {
            "tags": []
          },
          "execution_count": 79
        }
      ]
    },
    {
      "cell_type": "code",
      "metadata": {
        "id": "j4BsxZtGlSoC",
        "colab_type": "code",
        "colab": {
          "base_uri": "https://localhost:8080/",
          "height": 34
        },
        "outputId": "a85596f1-95e4-42c2-806b-2f01e548ddcd"
      },
      "source": [
        "y.shape"
      ],
      "execution_count": 80,
      "outputs": [
        {
          "output_type": "execute_result",
          "data": {
            "text/plain": [
              "(44885,)"
            ]
          },
          "metadata": {
            "tags": []
          },
          "execution_count": 80
        }
      ]
    },
    {
      "cell_type": "code",
      "metadata": {
        "id": "tKq0efi2nCRg",
        "colab_type": "code",
        "colab": {
          "base_uri": "https://localhost:8080/",
          "height": 656
        },
        "outputId": "081c218f-f8d4-4802-9966-514de9220478"
      },
      "source": [
        "model = sm.OLS(y, X)\n",
        "results = model.fit()\n",
        "print(results.summary())"
      ],
      "execution_count": 81,
      "outputs": [
        {
          "output_type": "stream",
          "text": [
            "                                 OLS Regression Results                                \n",
            "=======================================================================================\n",
            "Dep. Variable:                  FN017   R-squared (uncentered):                   0.999\n",
            "Model:                            OLS   Adj. R-squared (uncentered):              0.999\n",
            "Method:                 Least Squares   F-statistic:                          4.235e+06\n",
            "Date:                Thu, 10 Sep 2020   Prob (F-statistic):                        0.00\n",
            "Time:                        20:53:19   Log-Likelihood:                         -27438.\n",
            "No. Observations:               44885   AIC:                                  5.490e+04\n",
            "Df Residuals:                   44874   BIC:                                  5.499e+04\n",
            "Df Model:                          11                                                  \n",
            "Covariance Type:            nonrobust                                                  \n",
            "===============================================================================\n",
            "                  coef    std err          t      P>|t|      [0.025      0.975]\n",
            "-------------------------------------------------------------------------------\n",
            "t_Serv          0.1825      0.005     35.920      0.000       0.173       0.193\n",
            "nat_jur_c       0.0994      0.007     14.449      0.000       0.086       0.113\n",
            "nat_jur_b       0.3962      0.012     33.788      0.000       0.373       0.419\n",
            "Urbanizacao     0.0013      0.000      9.879      0.000       0.001       0.002\n",
            "AG005           0.0327      0.004      7.956      0.000       0.025       0.041\n",
            "AG011           0.1703      0.006     27.340      0.000       0.158       0.182\n",
            "AG021           0.8214      0.006    131.216      0.000       0.809       0.834\n",
            "QD023           0.0070      0.001      5.922      0.000       0.005       0.009\n",
            "IN008           0.5460      0.002    283.018      0.000       0.542       0.550\n",
            "IN013        1.113e-05   1.11e-05      0.998      0.318   -1.07e-05     3.3e-05\n",
            "IN058           0.0602      0.002     26.817      0.000       0.056       0.065\n",
            "==============================================================================\n",
            "Omnibus:                     6328.255   Durbin-Watson:                   1.010\n",
            "Prob(Omnibus):                  0.000   Jarque-Bera (JB):            63000.333\n",
            "Skew:                           0.348   Prob(JB):                         0.00\n",
            "Kurtosis:                       8.762   Cond. No.                     1.11e+03\n",
            "==============================================================================\n",
            "\n",
            "Warnings:\n",
            "[1] Standard Errors assume that the covariance matrix of the errors is correctly specified.\n",
            "[2] The condition number is large, 1.11e+03. This might indicate that there are\n",
            "strong multicollinearity or other numerical problems.\n"
          ],
          "name": "stdout"
        }
      ]
    },
    {
      "cell_type": "code",
      "metadata": {
        "id": "3kzuDDKXpioT",
        "colab_type": "code",
        "colab": {
          "base_uri": "https://localhost:8080/",
          "height": 567
        },
        "outputId": "843041c7-fd7e-4ee2-b974-decc8ac293b0"
      },
      "source": [
        "print(results.summary2())"
      ],
      "execution_count": 82,
      "outputs": [
        {
          "output_type": "stream",
          "text": [
            "                        Results: Ordinary least squares\n",
            "================================================================================\n",
            "Model:                  OLS              Adj. R-squared (uncentered): 0.999     \n",
            "Dependent Variable:     FN017            AIC:                         54897.7980\n",
            "Date:                   2020-09-10 20:53 BIC:                         54993.6284\n",
            "No. Observations:       44885            Log-Likelihood:              -27438.   \n",
            "Df Model:               11               F-statistic:                 4.235e+06 \n",
            "Df Residuals:           44874            Prob (F-statistic):          0.00      \n",
            "R-squared (uncentered): 0.999            Scale:                       0.19888   \n",
            "------------------------------------------------------------------------------------\n",
            "                  Coef.      Std.Err.        t         P>|t|       [0.025     0.975]\n",
            "------------------------------------------------------------------------------------\n",
            "t_Serv            0.1825       0.0051      35.9204     0.0000      0.1726     0.1925\n",
            "nat_jur_c         0.0994       0.0069      14.4491     0.0000      0.0859     0.1128\n",
            "nat_jur_b         0.3962       0.0117      33.7878     0.0000      0.3733     0.4192\n",
            "Urbanizacao       0.0013       0.0001       9.8790     0.0000      0.0010     0.0016\n",
            "AG005             0.0327       0.0041       7.9563     0.0000      0.0246     0.0408\n",
            "AG011             0.1703       0.0062      27.3401     0.0000      0.1581     0.1825\n",
            "AG021             0.8214       0.0063     131.2159     0.0000      0.8091     0.8337\n",
            "QD023             0.0070       0.0012       5.9217     0.0000      0.0047     0.0093\n",
            "IN008             0.5460       0.0019     283.0176     0.0000      0.5422     0.5498\n",
            "IN013             0.0000       0.0000       0.9983     0.3181     -0.0000     0.0000\n",
            "IN058             0.0602       0.0022      26.8174     0.0000      0.0558     0.0646\n",
            "--------------------------------------------------------------------------------\n",
            "Omnibus:                  6328.255          Durbin-Watson:             1.010    \n",
            "Prob(Omnibus):            0.000             Jarque-Bera (JB):          63000.333\n",
            "Skew:                     0.348             Prob(JB):                  0.000    \n",
            "Kurtosis:                 8.762             Condition No.:             1114     \n",
            "================================================================================\n",
            "* The condition number is large (1e+03). This might indicate             strong\n",
            "multicollinearity or other numerical problems.\n"
          ],
          "name": "stdout"
        }
      ]
    },
    {
      "cell_type": "code",
      "metadata": {
        "id": "WMtqY_JXo9CL",
        "colab_type": "code",
        "colab": {
          "base_uri": "https://localhost:8080/",
          "height": 247
        },
        "outputId": "e1b66b01-62cd-4680-892e-db46b4e80050"
      },
      "source": [
        "print('Parameters: ', results.params)\n",
        "print('R2: ', results.rsquared)"
      ],
      "execution_count": 83,
      "outputs": [
        {
          "output_type": "stream",
          "text": [
            "Parameters:  t_Serv         0.182541\n",
            "nat_jur_c      0.099362\n",
            "nat_jur_b      0.396238\n",
            "Urbanizacao    0.001310\n",
            "AG005          0.032703\n",
            "AG011          0.170285\n",
            "AG021          0.821390\n",
            "QD023          0.007002\n",
            "IN008          0.546030\n",
            "IN013          0.000011\n",
            "IN058          0.060159\n",
            "dtype: float64\n",
            "R2:  0.9990377010535699\n"
          ],
          "name": "stdout"
        }
      ]
    },
    {
      "cell_type": "code",
      "metadata": {
        "id": "gh0wPqZjpXtK",
        "colab_type": "code",
        "colab": {}
      },
      "source": [
        "dir(results)\n"
      ],
      "execution_count": null,
      "outputs": []
    },
    {
      "cell_type": "code",
      "metadata": {
        "id": "gPmfe8M0wza7",
        "colab_type": "code",
        "colab": {
          "base_uri": "https://localhost:8080/",
          "height": 585
        },
        "outputId": "691982f2-0691-4fb3-8828-e08d463fc3ae"
      },
      "source": [
        "model = sm.OLS(y, X2)\n",
        "results2 = model.fit()\n",
        "print(results2.summary())"
      ],
      "execution_count": 85,
      "outputs": [
        {
          "output_type": "stream",
          "text": [
            "                                 OLS Regression Results                                \n",
            "=======================================================================================\n",
            "Dep. Variable:                  FN017   R-squared (uncentered):                   0.999\n",
            "Model:                            OLS   Adj. R-squared (uncentered):              0.999\n",
            "Method:                 Least Squares   F-statistic:                          5.021e+06\n",
            "Date:                Thu, 10 Sep 2020   Prob (F-statistic):                        0.00\n",
            "Time:                        20:53:27   Log-Likelihood:                         -28124.\n",
            "No. Observations:               44885   AIC:                                  5.627e+04\n",
            "Df Residuals:                   44876   BIC:                                  5.634e+04\n",
            "Df Model:                           9                                                  \n",
            "Covariance Type:            nonrobust                                                  \n",
            "===============================================================================\n",
            "                  coef    std err          t      P>|t|      [0.025      0.975]\n",
            "-------------------------------------------------------------------------------\n",
            "nat_jur_b       0.2952      0.011     27.738      0.000       0.274       0.316\n",
            "Urbanizacao     0.0022      0.000     16.500      0.000       0.002       0.002\n",
            "AG005           0.0442      0.004     10.657      0.000       0.036       0.052\n",
            "AG011           0.1952      0.006     31.207      0.000       0.183       0.207\n",
            "AG021           0.7921      0.006    125.667      0.000       0.780       0.804\n",
            "QD023           0.0133      0.001     11.272      0.000       0.011       0.016\n",
            "IN008           0.5552      0.002    309.438      0.000       0.552       0.559\n",
            "IN013        8.905e-06   1.13e-05      0.787      0.431   -1.33e-05    3.11e-05\n",
            "IN058           0.0649      0.002     28.593      0.000       0.060       0.069\n",
            "==============================================================================\n",
            "Omnibus:                     6085.633   Durbin-Watson:                   1.021\n",
            "Prob(Omnibus):                  0.000   Jarque-Bera (JB):            58533.223\n",
            "Skew:                           0.327   Prob(JB):                         0.00\n",
            "Kurtosis:                       8.556   Cond. No.                         955.\n",
            "==============================================================================\n",
            "\n",
            "Warnings:\n",
            "[1] Standard Errors assume that the covariance matrix of the errors is correctly specified.\n"
          ],
          "name": "stdout"
        }
      ]
    },
    {
      "cell_type": "code",
      "metadata": {
        "id": "1X0oqxsAxAY5",
        "colab_type": "code",
        "colab": {
          "base_uri": "https://localhost:8080/",
          "height": 532
        },
        "outputId": "4ce7b75e-57b2-43a7-bef3-5a8b11d25631"
      },
      "source": [
        "model = sm.OLS(y, X3)\n",
        "results3 = model.fit()\n",
        "print(results3.summary())"
      ],
      "execution_count": 86,
      "outputs": [
        {
          "output_type": "stream",
          "text": [
            "                                 OLS Regression Results                                \n",
            "=======================================================================================\n",
            "Dep. Variable:                  FN017   R-squared (uncentered):                   0.999\n",
            "Model:                            OLS   Adj. R-squared (uncentered):              0.999\n",
            "Method:                 Least Squares   F-statistic:                          5.461e+06\n",
            "Date:                Thu, 10 Sep 2020   Prob (F-statistic):                        0.00\n",
            "Time:                        20:53:29   Log-Likelihood:                         -35329.\n",
            "No. Observations:               44885   AIC:                                  7.067e+04\n",
            "Df Residuals:                   44879   BIC:                                  7.072e+04\n",
            "Df Model:                           6                                                  \n",
            "Covariance Type:            nonrobust                                                  \n",
            "===============================================================================\n",
            "                  coef    std err          t      P>|t|      [0.025      0.975]\n",
            "-------------------------------------------------------------------------------\n",
            "nat_jur_b       0.3886      0.012     31.344      0.000       0.364       0.413\n",
            "Urbanizacao     0.0022      0.000     14.307      0.000       0.002       0.003\n",
            "AG005           0.1612      0.005     34.144      0.000       0.152       0.170\n",
            "AG011           0.8237      0.004    191.200      0.000       0.815       0.832\n",
            "IN008           0.7513      0.001    701.483      0.000       0.749       0.753\n",
            "IN013        4.982e-05   1.33e-05      3.751      0.000    2.38e-05    7.58e-05\n",
            "==============================================================================\n",
            "Omnibus:                    12459.148   Durbin-Watson:                   1.112\n",
            "Prob(Omnibus):                  0.000   Jarque-Bera (JB):           148986.719\n",
            "Skew:                           0.995   Prob(JB):                         0.00\n",
            "Kurtosis:                      11.701   Cond. No.                         943.\n",
            "==============================================================================\n",
            "\n",
            "Warnings:\n",
            "[1] Standard Errors assume that the covariance matrix of the errors is correctly specified.\n"
          ],
          "name": "stdout"
        }
      ]
    },
    {
      "cell_type": "code",
      "metadata": {
        "id": "0A4fQ-gexYqs",
        "colab_type": "code",
        "colab": {
          "base_uri": "https://localhost:8080/",
          "height": 567
        },
        "outputId": "152c3050-f0e2-44a3-a9ae-46b00887c547"
      },
      "source": [
        "info_dict={'R-squared' : lambda x: f\"{x.rsquared:.2f}\",\n",
        "           'No. observations' : lambda x: f\"{int(x.nobs):d}\"}\n",
        "\n",
        "results_table = summary_col(results=[results,results2,results3],\n",
        "                            float_format='%0.2f',\n",
        "                            stars = True,\n",
        "                            model_names=['Model 1',\n",
        "                                         'Model 2',\n",
        "                                         'Model 3'],\n",
        "                            info_dict=info_dict)\n",
        "\n",
        "results_table.add_title('Table 2 - OLS Regressions')\n",
        "\n",
        "print(results_table)"
      ],
      "execution_count": 87,
      "outputs": [
        {
          "output_type": "stream",
          "text": [
            "       Table 2 - OLS Regressions\n",
            "========================================\n",
            "                 Model 1 Model 2 Model 3\n",
            "----------------------------------------\n",
            "AG005            0.03*** 0.04*** 0.16***\n",
            "                 (0.00)  (0.00)  (0.00) \n",
            "AG011            0.17*** 0.20*** 0.82***\n",
            "                 (0.01)  (0.01)  (0.00) \n",
            "AG021            0.82*** 0.79***        \n",
            "                 (0.01)  (0.01)         \n",
            "IN008            0.55*** 0.56*** 0.75***\n",
            "                 (0.00)  (0.00)  (0.00) \n",
            "IN013            0.00    0.00    0.00***\n",
            "                 (0.00)  (0.00)  (0.00) \n",
            "IN058            0.06*** 0.06***        \n",
            "                 (0.00)  (0.00)         \n",
            "QD023            0.01*** 0.01***        \n",
            "                 (0.00)  (0.00)         \n",
            "Urbanizacao      0.00*** 0.00*** 0.00***\n",
            "                 (0.00)  (0.00)  (0.00) \n",
            "nat_jur_b        0.40*** 0.30*** 0.39***\n",
            "                 (0.01)  (0.01)  (0.01) \n",
            "nat_jur_c        0.10***                \n",
            "                 (0.01)                 \n",
            "t_Serv           0.18***                \n",
            "                 (0.01)                 \n",
            "R-squared        1.00    1.00    1.00   \n",
            "No. observations 44885   44885   44885  \n",
            "========================================\n",
            "Standard errors in parentheses.\n",
            "* p<.1, ** p<.05, ***p<.01\n"
          ],
          "name": "stdout"
        }
      ]
    },
    {
      "cell_type": "code",
      "metadata": {
        "id": "erWcdjYGrULh",
        "colab_type": "code",
        "colab": {
          "base_uri": "https://localhost:8080/",
          "height": 334
        },
        "outputId": "4f5288b3-1116-4452-d9e6-ebf43996a2ff"
      },
      "source": [
        "logistic = LogisticRegression(random_state=42)\n",
        "logistic.fit(X, y)"
      ],
      "execution_count": 62,
      "outputs": [
        {
          "output_type": "error",
          "ename": "ValueError",
          "evalue": "ignored",
          "traceback": [
            "\u001b[0;31m---------------------------------------------------------------------------\u001b[0m",
            "\u001b[0;31mValueError\u001b[0m                                Traceback (most recent call last)",
            "\u001b[0;32m<ipython-input-62-a0a0f2f69c8f>\u001b[0m in \u001b[0;36m<module>\u001b[0;34m()\u001b[0m\n\u001b[1;32m      1\u001b[0m \u001b[0mlogistic\u001b[0m \u001b[0;34m=\u001b[0m \u001b[0mLogisticRegression\u001b[0m\u001b[0;34m(\u001b[0m\u001b[0mrandom_state\u001b[0m\u001b[0;34m=\u001b[0m\u001b[0;36m42\u001b[0m\u001b[0;34m)\u001b[0m\u001b[0;34m\u001b[0m\u001b[0;34m\u001b[0m\u001b[0m\n\u001b[0;32m----> 2\u001b[0;31m \u001b[0mlogistic\u001b[0m\u001b[0;34m.\u001b[0m\u001b[0mfit\u001b[0m\u001b[0;34m(\u001b[0m\u001b[0mX\u001b[0m\u001b[0;34m,\u001b[0m \u001b[0my\u001b[0m\u001b[0;34m)\u001b[0m\u001b[0;34m\u001b[0m\u001b[0;34m\u001b[0m\u001b[0m\n\u001b[0m",
            "\u001b[0;32m/usr/local/lib/python3.6/dist-packages/sklearn/linear_model/_logistic.py\u001b[0m in \u001b[0;36mfit\u001b[0;34m(self, X, y, sample_weight)\u001b[0m\n\u001b[1;32m   1526\u001b[0m         X, y = check_X_y(X, y, accept_sparse='csr', dtype=_dtype, order=\"C\",\n\u001b[1;32m   1527\u001b[0m                          accept_large_sparse=solver != 'liblinear')\n\u001b[0;32m-> 1528\u001b[0;31m         \u001b[0mcheck_classification_targets\u001b[0m\u001b[0;34m(\u001b[0m\u001b[0my\u001b[0m\u001b[0;34m)\u001b[0m\u001b[0;34m\u001b[0m\u001b[0;34m\u001b[0m\u001b[0m\n\u001b[0m\u001b[1;32m   1529\u001b[0m         \u001b[0mself\u001b[0m\u001b[0;34m.\u001b[0m\u001b[0mclasses_\u001b[0m \u001b[0;34m=\u001b[0m \u001b[0mnp\u001b[0m\u001b[0;34m.\u001b[0m\u001b[0munique\u001b[0m\u001b[0;34m(\u001b[0m\u001b[0my\u001b[0m\u001b[0;34m)\u001b[0m\u001b[0;34m\u001b[0m\u001b[0;34m\u001b[0m\u001b[0m\n\u001b[1;32m   1530\u001b[0m         \u001b[0mn_samples\u001b[0m\u001b[0;34m,\u001b[0m \u001b[0mn_features\u001b[0m \u001b[0;34m=\u001b[0m \u001b[0mX\u001b[0m\u001b[0;34m.\u001b[0m\u001b[0mshape\u001b[0m\u001b[0;34m\u001b[0m\u001b[0;34m\u001b[0m\u001b[0m\n",
            "\u001b[0;32m/usr/local/lib/python3.6/dist-packages/sklearn/utils/multiclass.py\u001b[0m in \u001b[0;36mcheck_classification_targets\u001b[0;34m(y)\u001b[0m\n\u001b[1;32m    167\u001b[0m     if y_type not in ['binary', 'multiclass', 'multiclass-multioutput',\n\u001b[1;32m    168\u001b[0m                       'multilabel-indicator', 'multilabel-sequences']:\n\u001b[0;32m--> 169\u001b[0;31m         \u001b[0;32mraise\u001b[0m \u001b[0mValueError\u001b[0m\u001b[0;34m(\u001b[0m\u001b[0;34m\"Unknown label type: %r\"\u001b[0m \u001b[0;34m%\u001b[0m \u001b[0my_type\u001b[0m\u001b[0;34m)\u001b[0m\u001b[0;34m\u001b[0m\u001b[0;34m\u001b[0m\u001b[0m\n\u001b[0m\u001b[1;32m    170\u001b[0m \u001b[0;34m\u001b[0m\u001b[0m\n\u001b[1;32m    171\u001b[0m \u001b[0;34m\u001b[0m\u001b[0m\n",
            "\u001b[0;31mValueError\u001b[0m: Unknown label type: 'continuous'"
          ]
        }
      ]
    },
    {
      "cell_type": "code",
      "metadata": {
        "id": "YW2v8UIyfsnp",
        "colab_type": "code",
        "colab": {
          "base_uri": "https://localhost:8080/",
          "height": 334
        },
        "outputId": "e90a4521-e838-481b-d054-80a2988d3b97"
      },
      "source": [
        "rf017 = RandomForestClassifier( random_state=42)\n",
        "rf017.fit(X, y)\n"
      ],
      "execution_count": 58,
      "outputs": [
        {
          "output_type": "error",
          "ename": "ValueError",
          "evalue": "ignored",
          "traceback": [
            "\u001b[0;31m---------------------------------------------------------------------------\u001b[0m",
            "\u001b[0;31mValueError\u001b[0m                                Traceback (most recent call last)",
            "\u001b[0;32m<ipython-input-58-42cc33bbb974>\u001b[0m in \u001b[0;36m<module>\u001b[0;34m()\u001b[0m\n\u001b[1;32m      1\u001b[0m \u001b[0mrf017\u001b[0m \u001b[0;34m=\u001b[0m \u001b[0mRandomForestClassifier\u001b[0m\u001b[0;34m(\u001b[0m \u001b[0mrandom_state\u001b[0m\u001b[0;34m=\u001b[0m\u001b[0;36m42\u001b[0m\u001b[0;34m)\u001b[0m\u001b[0;34m\u001b[0m\u001b[0;34m\u001b[0m\u001b[0m\n\u001b[0;32m----> 2\u001b[0;31m \u001b[0mrf017\u001b[0m\u001b[0;34m.\u001b[0m\u001b[0mfit\u001b[0m\u001b[0;34m(\u001b[0m\u001b[0mX\u001b[0m\u001b[0;34m,\u001b[0m \u001b[0my\u001b[0m\u001b[0;34m)\u001b[0m\u001b[0;34m\u001b[0m\u001b[0;34m\u001b[0m\u001b[0m\n\u001b[0m",
            "\u001b[0;32m/usr/local/lib/python3.6/dist-packages/sklearn/ensemble/_forest.py\u001b[0m in \u001b[0;36mfit\u001b[0;34m(self, X, y, sample_weight)\u001b[0m\n\u001b[1;32m    319\u001b[0m         \u001b[0mself\u001b[0m\u001b[0;34m.\u001b[0m\u001b[0mn_outputs_\u001b[0m \u001b[0;34m=\u001b[0m \u001b[0my\u001b[0m\u001b[0;34m.\u001b[0m\u001b[0mshape\u001b[0m\u001b[0;34m[\u001b[0m\u001b[0;36m1\u001b[0m\u001b[0;34m]\u001b[0m\u001b[0;34m\u001b[0m\u001b[0;34m\u001b[0m\u001b[0m\n\u001b[1;32m    320\u001b[0m \u001b[0;34m\u001b[0m\u001b[0m\n\u001b[0;32m--> 321\u001b[0;31m         \u001b[0my\u001b[0m\u001b[0;34m,\u001b[0m \u001b[0mexpanded_class_weight\u001b[0m \u001b[0;34m=\u001b[0m \u001b[0mself\u001b[0m\u001b[0;34m.\u001b[0m\u001b[0m_validate_y_class_weight\u001b[0m\u001b[0;34m(\u001b[0m\u001b[0my\u001b[0m\u001b[0;34m)\u001b[0m\u001b[0;34m\u001b[0m\u001b[0;34m\u001b[0m\u001b[0m\n\u001b[0m\u001b[1;32m    322\u001b[0m \u001b[0;34m\u001b[0m\u001b[0m\n\u001b[1;32m    323\u001b[0m         \u001b[0;32mif\u001b[0m \u001b[0mgetattr\u001b[0m\u001b[0;34m(\u001b[0m\u001b[0my\u001b[0m\u001b[0;34m,\u001b[0m \u001b[0;34m\"dtype\"\u001b[0m\u001b[0;34m,\u001b[0m \u001b[0;32mNone\u001b[0m\u001b[0;34m)\u001b[0m \u001b[0;34m!=\u001b[0m \u001b[0mDOUBLE\u001b[0m \u001b[0;32mor\u001b[0m \u001b[0;32mnot\u001b[0m \u001b[0my\u001b[0m\u001b[0;34m.\u001b[0m\u001b[0mflags\u001b[0m\u001b[0;34m.\u001b[0m\u001b[0mcontiguous\u001b[0m\u001b[0;34m:\u001b[0m\u001b[0;34m\u001b[0m\u001b[0;34m\u001b[0m\u001b[0m\n",
            "\u001b[0;32m/usr/local/lib/python3.6/dist-packages/sklearn/ensemble/_forest.py\u001b[0m in \u001b[0;36m_validate_y_class_weight\u001b[0;34m(self, y)\u001b[0m\n\u001b[1;32m    539\u001b[0m \u001b[0;34m\u001b[0m\u001b[0m\n\u001b[1;32m    540\u001b[0m     \u001b[0;32mdef\u001b[0m \u001b[0m_validate_y_class_weight\u001b[0m\u001b[0;34m(\u001b[0m\u001b[0mself\u001b[0m\u001b[0;34m,\u001b[0m \u001b[0my\u001b[0m\u001b[0;34m)\u001b[0m\u001b[0;34m:\u001b[0m\u001b[0;34m\u001b[0m\u001b[0;34m\u001b[0m\u001b[0m\n\u001b[0;32m--> 541\u001b[0;31m         \u001b[0mcheck_classification_targets\u001b[0m\u001b[0;34m(\u001b[0m\u001b[0my\u001b[0m\u001b[0;34m)\u001b[0m\u001b[0;34m\u001b[0m\u001b[0;34m\u001b[0m\u001b[0m\n\u001b[0m\u001b[1;32m    542\u001b[0m \u001b[0;34m\u001b[0m\u001b[0m\n\u001b[1;32m    543\u001b[0m         \u001b[0my\u001b[0m \u001b[0;34m=\u001b[0m \u001b[0mnp\u001b[0m\u001b[0;34m.\u001b[0m\u001b[0mcopy\u001b[0m\u001b[0;34m(\u001b[0m\u001b[0my\u001b[0m\u001b[0;34m)\u001b[0m\u001b[0;34m\u001b[0m\u001b[0;34m\u001b[0m\u001b[0m\n",
            "\u001b[0;32m/usr/local/lib/python3.6/dist-packages/sklearn/utils/multiclass.py\u001b[0m in \u001b[0;36mcheck_classification_targets\u001b[0;34m(y)\u001b[0m\n\u001b[1;32m    167\u001b[0m     if y_type not in ['binary', 'multiclass', 'multiclass-multioutput',\n\u001b[1;32m    168\u001b[0m                       'multilabel-indicator', 'multilabel-sequences']:\n\u001b[0;32m--> 169\u001b[0;31m         \u001b[0;32mraise\u001b[0m \u001b[0mValueError\u001b[0m\u001b[0;34m(\u001b[0m\u001b[0;34m\"Unknown label type: %r\"\u001b[0m \u001b[0;34m%\u001b[0m \u001b[0my_type\u001b[0m\u001b[0;34m)\u001b[0m\u001b[0;34m\u001b[0m\u001b[0;34m\u001b[0m\u001b[0m\n\u001b[0m\u001b[1;32m    170\u001b[0m \u001b[0;34m\u001b[0m\u001b[0m\n\u001b[1;32m    171\u001b[0m \u001b[0;34m\u001b[0m\u001b[0m\n",
            "\u001b[0;31mValueError\u001b[0m: Unknown label type: 'continuous'"
          ]
        }
      ]
    },
    {
      "cell_type": "code",
      "metadata": {
        "id": "dhNA9frqfsMP",
        "colab_type": "code",
        "colab": {}
      },
      "source": [
        ""
      ],
      "execution_count": 30,
      "outputs": []
    },
    {
      "cell_type": "code",
      "metadata": {
        "id": "BVuAJU4Oc10K",
        "colab_type": "code",
        "colab": {}
      },
      "source": [
        "result = sm.ols(formula=\"FN017 ~ B + C\", data=df).fit()\n",
        "print(result.params)"
      ],
      "execution_count": null,
      "outputs": []
    }
  ]
}